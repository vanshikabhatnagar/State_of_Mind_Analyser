{
  "nbformat": 4,
  "nbformat_minor": 0,
  "metadata": {
    "kernelspec": {
      "display_name": "Python 3",
      "language": "python",
      "name": "python3"
    },
    "language_info": {
      "codemirror_mode": {
        "name": "ipython",
        "version": 3
      },
      "file_extension": ".py",
      "mimetype": "text/x-python",
      "name": "python",
      "nbconvert_exporter": "python",
      "pygments_lexer": "ipython3",
      "version": "3.7.6"
    },
    "colab": {
      "name": "Preprocess_code.ipynb",
      "provenance": []
    }
  },
  "cells": [
    {
      "cell_type": "code",
      "metadata": {
        "id": "cDqatsudzU9N"
      },
      "source": [
        "import numpy as np\n",
        "import pandas as pd"
      ],
      "execution_count": null,
      "outputs": []
    },
    {
      "cell_type": "code",
      "metadata": {
        "id": "YvyrR6KJzU9O"
      },
      "source": [
        "df = pd.read_csv(\"train_data.csv\")"
      ],
      "execution_count": null,
      "outputs": []
    },
    {
      "cell_type": "code",
      "metadata": {
        "id": "GmUWbvmnzU9O",
        "outputId": "f6363eee-3204-45fc-c12a-9e5d836faaf9"
      },
      "source": [
        "df.head()"
      ],
      "execution_count": null,
      "outputs": [
        {
          "output_type": "execute_result",
          "data": {
            "text/html": [
              "<div>\n",
              "<style scoped>\n",
              "    .dataframe tbody tr th:only-of-type {\n",
              "        vertical-align: middle;\n",
              "    }\n",
              "\n",
              "    .dataframe tbody tr th {\n",
              "        vertical-align: top;\n",
              "    }\n",
              "\n",
              "    .dataframe thead th {\n",
              "        text-align: right;\n",
              "    }\n",
              "</style>\n",
              "<table border=\"1\" class=\"dataframe\">\n",
              "  <thead>\n",
              "    <tr style=\"text-align: right;\">\n",
              "      <th></th>\n",
              "      <th>Unnamed: 0</th>\n",
              "      <th>Tweet</th>\n",
              "      <th>Pos/Neg/Neu</th>\n",
              "      <th>Quantification</th>\n",
              "    </tr>\n",
              "  </thead>\n",
              "  <tbody>\n",
              "    <tr>\n",
              "      <th>0</th>\n",
              "      <td>0</td>\n",
              "      <td>coronavirus masks: types, protection, how and ...</td>\n",
              "      <td>negative</td>\n",
              "      <td>-0.6124</td>\n",
              "    </tr>\n",
              "    <tr>\n",
              "      <th>1</th>\n",
              "      <td>1</td>\n",
              "      <td>coronavirus may give us the justice, which we ...</td>\n",
              "      <td>negative</td>\n",
              "      <td>-0.5267</td>\n",
              "    </tr>\n",
              "    <tr>\n",
              "      <th>2</th>\n",
              "      <td>2</td>\n",
              "      <td>imagine a grand opening for the construction o...</td>\n",
              "      <td>negative</td>\n",
              "      <td>-0.6597</td>\n",
              "    </tr>\n",
              "    <tr>\n",
              "      <th>3</th>\n",
              "      <td>3</td>\n",
              "      <td>i depend more on coronavirus than _in. it can ...</td>\n",
              "      <td>negative</td>\n",
              "      <td>-0.0460</td>\n",
              "    </tr>\n",
              "    <tr>\n",
              "      <th>4</th>\n",
              "      <td>4</td>\n",
              "      <td>empowerful life lessons to be strong healthy s...</td>\n",
              "      <td>positive</td>\n",
              "      <td>0.4215</td>\n",
              "    </tr>\n",
              "  </tbody>\n",
              "</table>\n",
              "</div>"
            ],
            "text/plain": [
              "   Unnamed: 0                                              Tweet Pos/Neg/Neu  \\\n",
              "0           0  coronavirus masks: types, protection, how and ...    negative   \n",
              "1           1  coronavirus may give us the justice, which we ...    negative   \n",
              "2           2  imagine a grand opening for the construction o...    negative   \n",
              "3           3  i depend more on coronavirus than _in. it can ...    negative   \n",
              "4           4  empowerful life lessons to be strong healthy s...    positive   \n",
              "\n",
              "   Quantification  \n",
              "0         -0.6124  \n",
              "1         -0.5267  \n",
              "2         -0.6597  \n",
              "3         -0.0460  \n",
              "4          0.4215  "
            ]
          },
          "metadata": {
            "tags": []
          },
          "execution_count": 3
        }
      ]
    },
    {
      "cell_type": "code",
      "metadata": {
        "id": "Dj-DyiiczU9R"
      },
      "source": [
        "df = df.drop(columns=[\"Unnamed: 0\", \"Quantification\"])"
      ],
      "execution_count": null,
      "outputs": []
    },
    {
      "cell_type": "code",
      "metadata": {
        "id": "ngghAT2SzU9R",
        "outputId": "75ce997c-52eb-4f04-e408-275bc0128fd7"
      },
      "source": [
        "df.head()"
      ],
      "execution_count": null,
      "outputs": [
        {
          "output_type": "execute_result",
          "data": {
            "text/html": [
              "<div>\n",
              "<style scoped>\n",
              "    .dataframe tbody tr th:only-of-type {\n",
              "        vertical-align: middle;\n",
              "    }\n",
              "\n",
              "    .dataframe tbody tr th {\n",
              "        vertical-align: top;\n",
              "    }\n",
              "\n",
              "    .dataframe thead th {\n",
              "        text-align: right;\n",
              "    }\n",
              "</style>\n",
              "<table border=\"1\" class=\"dataframe\">\n",
              "  <thead>\n",
              "    <tr style=\"text-align: right;\">\n",
              "      <th></th>\n",
              "      <th>Tweet</th>\n",
              "      <th>Pos/Neg/Neu</th>\n",
              "    </tr>\n",
              "  </thead>\n",
              "  <tbody>\n",
              "    <tr>\n",
              "      <th>0</th>\n",
              "      <td>coronavirus masks: types, protection, how and ...</td>\n",
              "      <td>negative</td>\n",
              "    </tr>\n",
              "    <tr>\n",
              "      <th>1</th>\n",
              "      <td>coronavirus may give us the justice, which we ...</td>\n",
              "      <td>negative</td>\n",
              "    </tr>\n",
              "    <tr>\n",
              "      <th>2</th>\n",
              "      <td>imagine a grand opening for the construction o...</td>\n",
              "      <td>negative</td>\n",
              "    </tr>\n",
              "    <tr>\n",
              "      <th>3</th>\n",
              "      <td>i depend more on coronavirus than _in. it can ...</td>\n",
              "      <td>negative</td>\n",
              "    </tr>\n",
              "    <tr>\n",
              "      <th>4</th>\n",
              "      <td>empowerful life lessons to be strong healthy s...</td>\n",
              "      <td>positive</td>\n",
              "    </tr>\n",
              "  </tbody>\n",
              "</table>\n",
              "</div>"
            ],
            "text/plain": [
              "                                               Tweet Pos/Neg/Neu\n",
              "0  coronavirus masks: types, protection, how and ...    negative\n",
              "1  coronavirus may give us the justice, which we ...    negative\n",
              "2  imagine a grand opening for the construction o...    negative\n",
              "3  i depend more on coronavirus than _in. it can ...    negative\n",
              "4  empowerful life lessons to be strong healthy s...    positive"
            ]
          },
          "metadata": {
            "tags": []
          },
          "execution_count": 5
        }
      ]
    },
    {
      "cell_type": "code",
      "metadata": {
        "id": "CYNreDzvzU9R",
        "outputId": "78d98973-4809-45d9-9336-3de9b21195ab"
      },
      "source": [
        "!pip install tweet-preprocessor"
      ],
      "execution_count": null,
      "outputs": [
        {
          "output_type": "stream",
          "text": [
            "Requirement already satisfied: tweet-preprocessor in c:\\users\\bhaskar mishra\\shubhangi\\downloads\\relativity\\internshala\\lib\\site-packages (0.6.0)\n"
          ],
          "name": "stdout"
        }
      ]
    },
    {
      "cell_type": "code",
      "metadata": {
        "id": "xuaJXblAzU9R",
        "outputId": "90bd9cb1-ec8e-4e4c-d8f2-607cd8276e9f"
      },
      "source": [
        "import re\n",
        "import nltk\n",
        "import nltk.corpus\n",
        "nltk.download('stopwords')\n",
        "from nltk.corpus import stopwords\n",
        "import preprocessor as p\n",
        "#import pickle"
      ],
      "execution_count": null,
      "outputs": [
        {
          "output_type": "stream",
          "text": [
            "[nltk_data] Downloading package stopwords to C:\\Users\\Bhaskar\n",
            "[nltk_data]     Mishra\\AppData\\Roaming\\nltk_data...\n",
            "[nltk_data]   Package stopwords is already up-to-date!\n"
          ],
          "name": "stderr"
        }
      ]
    },
    {
      "cell_type": "code",
      "metadata": {
        "id": "POihPiSkzU9R"
      },
      "source": [
        "stop = stopwords.words('english')\n",
        "def preprocess(data):\n",
        "    data = p.clean(data) \n",
        "    data = data.replace(\"[^a-zA-Z' ]\",\"\")\n",
        "    data = ' '.join([word for word in data.split() if word not in stopwords.words(\"english\")])\n",
        "    return data"
      ],
      "execution_count": null,
      "outputs": []
    },
    {
      "cell_type": "code",
      "metadata": {
        "id": "x1Dse3rnzU9R"
      },
      "source": [
        "x = df['Tweet']\n",
        "y = df['Pos/Neg/Neu']"
      ],
      "execution_count": null,
      "outputs": []
    },
    {
      "cell_type": "code",
      "metadata": {
        "id": "3f7F8wuRzU9R",
        "outputId": "81579411-38c4-42bf-906e-537b2c46b88d"
      },
      "source": [
        "print(len(x), len(y))"
      ],
      "execution_count": null,
      "outputs": [
        {
          "output_type": "stream",
          "text": [
            "4347 4347\n"
          ],
          "name": "stdout"
        }
      ]
    },
    {
      "cell_type": "code",
      "metadata": {
        "id": "o8h8fz6TzU9S"
      },
      "source": [
        "temp = []\n",
        "for i in range(0,len(x)):\n",
        "    a = x[i]\n",
        "    b = preprocess(a)\n",
        "    temp.append(b)"
      ],
      "execution_count": null,
      "outputs": []
    },
    {
      "cell_type": "code",
      "metadata": {
        "id": "h9yLf86ZzU9S",
        "outputId": "6e7a4704-1d85-4f9f-dff1-9dde77313876"
      },
      "source": [
        "print(len(x), len(y), len(temp))\n",
        "print(x[1])\n",
        "print(temp[1])"
      ],
      "execution_count": null,
      "outputs": [
        {
          "output_type": "stream",
          "text": [
            "4347 4347 4347\n",
            "coronavirus may give us the justice, which we failed to get from  government or supremecourt even. _news _india   _intl \n",
            "coronavirus may give us justice, failed get government supremecourt even. _news _india _intl\n"
          ],
          "name": "stdout"
        }
      ]
    },
    {
      "cell_type": "code",
      "metadata": {
        "id": "AZoj2C64zU9S"
      },
      "source": [
        "preprocess_df = pd.DataFrame()"
      ],
      "execution_count": null,
      "outputs": []
    },
    {
      "cell_type": "code",
      "metadata": {
        "id": "US2TfZBQzU9S"
      },
      "source": [
        "preprocess_df['Tweet'] = temp\n",
        "preprocess_df['Pos/Neg/Neu'] = y"
      ],
      "execution_count": null,
      "outputs": []
    },
    {
      "cell_type": "code",
      "metadata": {
        "id": "CAzPONLTzU9S",
        "outputId": "f176e0ee-4f6a-461e-dac2-fd3a40c38acb"
      },
      "source": [
        "preprocess_df.head()"
      ],
      "execution_count": null,
      "outputs": [
        {
          "output_type": "execute_result",
          "data": {
            "text/html": [
              "<div>\n",
              "<style scoped>\n",
              "    .dataframe tbody tr th:only-of-type {\n",
              "        vertical-align: middle;\n",
              "    }\n",
              "\n",
              "    .dataframe tbody tr th {\n",
              "        vertical-align: top;\n",
              "    }\n",
              "\n",
              "    .dataframe thead th {\n",
              "        text-align: right;\n",
              "    }\n",
              "</style>\n",
              "<table border=\"1\" class=\"dataframe\">\n",
              "  <thead>\n",
              "    <tr style=\"text-align: right;\">\n",
              "      <th></th>\n",
              "      <th>Tweet</th>\n",
              "      <th>Pos/Neg/Neu</th>\n",
              "    </tr>\n",
              "  </thead>\n",
              "  <tbody>\n",
              "    <tr>\n",
              "      <th>0</th>\n",
              "      <td>coronavirus masks: types, protection, use</td>\n",
              "      <td>negative</td>\n",
              "    </tr>\n",
              "    <tr>\n",
              "      <th>1</th>\n",
              "      <td>coronavirus may give us justice, failed get go...</td>\n",
              "      <td>negative</td>\n",
              "    </tr>\n",
              "    <tr>\n",
              "      <th>2</th>\n",
              "      <td>imagine grand opening construction big mosque ...</td>\n",
              "      <td>negative</td>\n",
              "    </tr>\n",
              "    <tr>\n",
              "      <th>3</th>\n",
              "      <td>depend coronavirus _in. extend justice us.</td>\n",
              "      <td>negative</td>\n",
              "    </tr>\n",
              "    <tr>\n",
              "      <th>4</th>\n",
              "      <td>empowerful life lessons strong healthy safe ha...</td>\n",
              "      <td>positive</td>\n",
              "    </tr>\n",
              "  </tbody>\n",
              "</table>\n",
              "</div>"
            ],
            "text/plain": [
              "                                               Tweet Pos/Neg/Neu\n",
              "0          coronavirus masks: types, protection, use    negative\n",
              "1  coronavirus may give us justice, failed get go...    negative\n",
              "2  imagine grand opening construction big mosque ...    negative\n",
              "3         depend coronavirus _in. extend justice us.    negative\n",
              "4  empowerful life lessons strong healthy safe ha...    positive"
            ]
          },
          "metadata": {
            "tags": []
          },
          "execution_count": 15
        }
      ]
    },
    {
      "cell_type": "code",
      "metadata": {
        "id": "UiYtnHk-zU9S"
      },
      "source": [
        "preprocess_df.to_csv(\"Preprocessed_Dataset.csv\")"
      ],
      "execution_count": null,
      "outputs": []
    },
    {
      "cell_type": "code",
      "metadata": {
        "id": "gzoRLhkYzU9S"
      },
      "source": [
        ""
      ],
      "execution_count": null,
      "outputs": []
    }
  ]
}