{
 "cells": [
  {
   "cell_type": "code",
   "execution_count": 1,
   "metadata": {
    "id": "8XMM_LjjSzBH"
   },
   "outputs": [],
   "source": [
    "import pandas as pd\n",
    "df_new=pd.read_csv(\"data.csv\")"
   ]
  },
  {
   "cell_type": "code",
   "execution_count": 2,
   "metadata": {
    "id": "lgRFs_QjSzBI",
    "outputId": "01aab38a-e4c8-42e3-85e5-274628ca4a4f"
   },
   "outputs": [
    {
     "data": {
      "text/html": [
       "<div>\n",
       "<style scoped>\n",
       "    .dataframe tbody tr th:only-of-type {\n",
       "        vertical-align: middle;\n",
       "    }\n",
       "\n",
       "    .dataframe tbody tr th {\n",
       "        vertical-align: top;\n",
       "    }\n",
       "\n",
       "    .dataframe thead th {\n",
       "        text-align: right;\n",
       "    }\n",
       "</style>\n",
       "<table border=\"1\" class=\"dataframe\">\n",
       "  <thead>\n",
       "    <tr style=\"text-align: right;\">\n",
       "      <th></th>\n",
       "      <th>Unnamed: 0</th>\n",
       "      <th>created_at</th>\n",
       "      <th>id</th>\n",
       "      <th>lang</th>\n",
       "      <th>place</th>\n",
       "      <th>source</th>\n",
       "      <th>text</th>\n",
       "      <th>user_name</th>\n",
       "    </tr>\n",
       "  </thead>\n",
       "  <tbody>\n",
       "    <tr>\n",
       "      <th>0</th>\n",
       "      <td>0</td>\n",
       "      <td>Thu Mar 19 20:16:05 +0000 2020</td>\n",
       "      <td>1240733803053711364</td>\n",
       "      <td>en</td>\n",
       "      <td>Kendall, FL</td>\n",
       "      <td>&lt;a href=\"http://instagram.com\" rel=\"nofollow\"&gt;...</td>\n",
       "      <td>Many ask us how they can support us during all...</td>\n",
       "      <td>Cao Chocolates</td>\n",
       "    </tr>\n",
       "    <tr>\n",
       "      <th>1</th>\n",
       "      <td>1</td>\n",
       "      <td>Thu Mar 19 20:39:55 +0000 2020</td>\n",
       "      <td>1240739801168523278</td>\n",
       "      <td>en</td>\n",
       "      <td>Layton, UT</td>\n",
       "      <td>&lt;a href=\"http://instagram.com\" rel=\"nofollow\"&gt;...</td>\n",
       "      <td>We wish that ceramic coating protected us from...</td>\n",
       "      <td>Jason Welch</td>\n",
       "    </tr>\n",
       "    <tr>\n",
       "      <th>2</th>\n",
       "      <td>2</td>\n",
       "      <td>Thu Mar 19 20:37:51 +0000 2020</td>\n",
       "      <td>1240739282807111687</td>\n",
       "      <td>en</td>\n",
       "      <td>Ramsbottom, England</td>\n",
       "      <td>&lt;a href=\"http://instagram.com\" rel=\"nofollow\"&gt;...</td>\n",
       "      <td>Dog food deliveries 📦🦴 \\nAs the Corona situati...</td>\n",
       "      <td>Hills Pet Shop</td>\n",
       "    </tr>\n",
       "    <tr>\n",
       "      <th>3</th>\n",
       "      <td>3</td>\n",
       "      <td>Thu Mar 19 20:28:50 +0000 2020</td>\n",
       "      <td>1240737015181635585</td>\n",
       "      <td>en</td>\n",
       "      <td>Bronx, NY</td>\n",
       "      <td>&lt;a href=\"http://instagram.com\" rel=\"nofollow\"&gt;...</td>\n",
       "      <td>I HATE this Koon @Byrdgangshoota 🤦🏾‍♂️😂 Nigga ...</td>\n",
       "      <td>C.P.T.</td>\n",
       "    </tr>\n",
       "    <tr>\n",
       "      <th>4</th>\n",
       "      <td>4</td>\n",
       "      <td>Thu Mar 19 21:02:22 +0000 2020</td>\n",
       "      <td>1240745453467119624</td>\n",
       "      <td>en</td>\n",
       "      <td>Dallas, TX</td>\n",
       "      <td>&lt;a href=\"http://instagram.com\" rel=\"nofollow\"&gt;...</td>\n",
       "      <td>Day 3.... Corona-0, QueRona-3! Workout complet...</td>\n",
       "      <td>_herbalegend1911</td>\n",
       "    </tr>\n",
       "  </tbody>\n",
       "</table>\n",
       "</div>"
      ],
      "text/plain": [
       "   Unnamed: 0                      created_at                   id lang  \\\n",
       "0           0  Thu Mar 19 20:16:05 +0000 2020  1240733803053711364   en   \n",
       "1           1  Thu Mar 19 20:39:55 +0000 2020  1240739801168523278   en   \n",
       "2           2  Thu Mar 19 20:37:51 +0000 2020  1240739282807111687   en   \n",
       "3           3  Thu Mar 19 20:28:50 +0000 2020  1240737015181635585   en   \n",
       "4           4  Thu Mar 19 21:02:22 +0000 2020  1240745453467119624   en   \n",
       "\n",
       "                 place                                             source  \\\n",
       "0          Kendall, FL  <a href=\"http://instagram.com\" rel=\"nofollow\">...   \n",
       "1           Layton, UT  <a href=\"http://instagram.com\" rel=\"nofollow\">...   \n",
       "2  Ramsbottom, England  <a href=\"http://instagram.com\" rel=\"nofollow\">...   \n",
       "3            Bronx, NY  <a href=\"http://instagram.com\" rel=\"nofollow\">...   \n",
       "4           Dallas, TX  <a href=\"http://instagram.com\" rel=\"nofollow\">...   \n",
       "\n",
       "                                                text         user_name  \n",
       "0  Many ask us how they can support us during all...    Cao Chocolates  \n",
       "1  We wish that ceramic coating protected us from...       Jason Welch  \n",
       "2  Dog food deliveries 📦🦴 \\nAs the Corona situati...    Hills Pet Shop  \n",
       "3  I HATE this Koon @Byrdgangshoota 🤦🏾‍♂️😂 Nigga ...            C.P.T.  \n",
       "4  Day 3.... Corona-0, QueRona-3! Workout complet...  _herbalegend1911  "
      ]
     },
     "execution_count": 2,
     "metadata": {},
     "output_type": "execute_result"
    }
   ],
   "source": [
    "df_new.head()"
   ]
  },
  {
   "cell_type": "code",
   "execution_count": 3,
   "metadata": {
    "id": "UH9-p5baSzBL",
    "outputId": "df0df157-b117-4053-a903-8c9b2d61a300"
   },
   "outputs": [
    {
     "name": "stdout",
     "output_type": "stream",
     "text": [
      "Requirement already satisfied: tweet-preprocessor in c:\\users\\bhaskar mishra\\shubhangi\\downloads\\relativity\\internshala\\lib\\site-packages (0.6.0)\n"
     ]
    }
   ],
   "source": [
    "!pip install tweet-preprocessor"
   ]
  },
  {
   "cell_type": "code",
   "execution_count": 4,
   "metadata": {
    "id": "gRIrgv0QSzBM",
    "outputId": "b8bcdcca-8d33-4661-c98a-989bf02e1d22"
   },
   "outputs": [
    {
     "name": "stderr",
     "output_type": "stream",
     "text": [
      "[nltk_data] Downloading package stopwords to C:\\Users\\Bhaskar\n",
      "[nltk_data]     Mishra\\AppData\\Roaming\\nltk_data...\n",
      "[nltk_data]   Package stopwords is already up-to-date!\n"
     ]
    }
   ],
   "source": [
    "import numpy as np\n",
    "import re\n",
    "import nltk\n",
    "import nltk.corpus\n",
    "nltk.download('stopwords')\n",
    "from nltk.corpus import stopwords\n",
    "from sklearn.feature_extraction.text import TfidfVectorizer, CountVectorizer\n",
    "from sklearn.feature_extraction.text import TfidfTransformer\n",
    "#from sklearn.pipeline import Pipeline, FeatureUnion\n",
    "from sklearn.metrics import f1_score, classification_report, accuracy_score,confusion_matrix\n",
    "from sklearn.model_selection import train_test_split\n",
    "import preprocessor as p\n",
    "import pickle"
   ]
  },
  {
   "cell_type": "code",
   "execution_count": 5,
   "metadata": {
    "id": "mw3zyIEGSzBM"
   },
   "outputs": [],
   "source": [
    "stop = stopwords.words('english')\n",
    "def preprocess(data):\n",
    "  data= p.clean(data)\n",
    "  data= data.replace(\"[^a-zA-Z' ]\",\"\")\n",
    "  data = ' '.join([word for word in data.split() if word not in stopwords.words(\"english\")])\n",
    "  return data"
   ]
  },
  {
   "cell_type": "code",
   "execution_count": 6,
   "metadata": {
    "id": "4bht8Gy2SzBN"
   },
   "outputs": [],
   "source": [
    "x=df_new['text']"
   ]
  },
  {
   "cell_type": "code",
   "execution_count": 7,
   "metadata": {
    "id": "xggPPptgSzBN",
    "outputId": "7d2fa78a-1ece-4b02-fc78-cf201aff0b01"
   },
   "outputs": [
    {
     "data": {
      "text/plain": [
       "1259"
      ]
     },
     "execution_count": 7,
     "metadata": {},
     "output_type": "execute_result"
    }
   ],
   "source": [
    "len(x)"
   ]
  },
  {
   "cell_type": "code",
   "execution_count": 8,
   "metadata": {
    "id": "Wi3B3i6-SzBN"
   },
   "outputs": [],
   "source": [
    "temp=[]"
   ]
  },
  {
   "cell_type": "code",
   "execution_count": 9,
   "metadata": {
    "id": "-j8WEDapSzBN"
   },
   "outputs": [],
   "source": [
    "for i in range(0,len(x)):\n",
    "  a=x[i]\n",
    "  b=preprocess(a)\n",
    "  temp.append(b)"
   ]
  },
  {
   "cell_type": "code",
   "execution_count": 10,
   "metadata": {
    "id": "ep8lUUitSzBO",
    "outputId": "1a1aa968-5fb4-4a84-f858-f560253bf22f"
   },
   "outputs": [
    {
     "data": {
      "text/plain": [
       "'We wish that ceramic coating protected us from the corona virus, we do know that it helps protect your vehicles surfaces from other things, tar, sap, UV rays and more. These pictures and video showcase Brian’s 2019… https://t.co/SMD8X0tGyR'"
      ]
     },
     "execution_count": 10,
     "metadata": {},
     "output_type": "execute_result"
    }
   ],
   "source": [
    "x[1]"
   ]
  },
  {
   "cell_type": "code",
   "execution_count": 11,
   "metadata": {
    "id": "-q9XJG79SzBO",
    "outputId": "6efc9f55-cc35-4f97-fa68-e84ecf64e368"
   },
   "outputs": [
    {
     "data": {
      "text/plain": [
       "'We wish ceramic coating protected us corona virus, know helps protect vehicles surfaces things, tar, sap, UV rays more. These pictures video showcase Brians'"
      ]
     },
     "execution_count": 11,
     "metadata": {},
     "output_type": "execute_result"
    }
   ],
   "source": [
    "temp[1]"
   ]
  },
  {
   "cell_type": "code",
   "execution_count": 12,
   "metadata": {
    "id": "Lnrtjp7BSzBP"
   },
   "outputs": [],
   "source": [
    "tf1 = pickle.load(open(\"tf.pkl\", 'rb'))"
   ]
  },
  {
   "cell_type": "code",
   "execution_count": 13,
   "metadata": {
    "id": "x9aEXGi4SzBP"
   },
   "outputs": [],
   "source": [
    "x=tf1.transform(x)"
   ]
  },
  {
   "cell_type": "code",
   "execution_count": 14,
   "metadata": {
    "id": "2LDI_jEeSzBP",
    "outputId": "68cdeb6b-4aaa-442d-9f83-9d74ec22f3a0"
   },
   "outputs": [
    {
     "name": "stdout",
     "output_type": "stream",
     "text": [
      "  (0, 205)\t0.29837780430703803\n",
      "  (0, 197)\t0.23045003627547705\n",
      "  (0, 193)\t0.5308471480579151\n",
      "  (0, 132)\t0.31002717060008733\n",
      "  (0, 107)\t0.5834940895709013\n",
      "  (0, 30)\t0.19894488892499648\n",
      "  (0, 23)\t0.3160751558925038\n",
      "  (1, 197)\t0.39352242300145945\n",
      "  (1, 193)\t0.45324413769553185\n",
      "  (1, 94)\t0.4913131817318547\n",
      "  (1, 90)\t0.5318921025932198\n",
      "  (1, 30)\t0.33972342117549\n",
      "  (2, 173)\t0.33390605643874177\n",
      "  (2, 166)\t0.30198057613450113\n",
      "  (2, 107)\t0.31126185724018673\n",
      "  (2, 94)\t0.30696237919622404\n",
      "  (2, 90)\t0.33231525503178055\n",
      "  (2, 67)\t0.32925249631466547\n",
      "  (2, 30)\t0.21225221205162723\n",
      "  (2, 23)\t0.33721726341026703\n",
      "  (2, 20)\t0.33721726341026703\n",
      "  (2, 6)\t0.33894251582780505\n",
      "  (3, 103)\t0.8439286445356378\n",
      "  (3, 30)\t0.5364554435666034\n",
      "  (4, 44)\t0.5932776874554583\n",
      "  :\t:\n",
      "  (1252, 37)\t0.6484884613820924\n",
      "  (1252, 32)\t0.31907481865060827\n",
      "  (1252, 30)\t0.44533973796801674\n",
      "  (1253, 197)\t0.756953211700489\n",
      "  (1253, 30)\t0.6534690775364314\n",
      "  (1254, 204)\t0.48891505850468875\n",
      "  (1254, 197)\t0.41013770748345013\n",
      "  (1254, 77)\t0.5654048487741143\n",
      "  (1254, 44)\t0.38432134535288515\n",
      "  (1254, 30)\t0.3540672068357164\n",
      "  (1255, 30)\t1.0\n",
      "  (1256, 186)\t0.5315962537071544\n",
      "  (1256, 113)\t0.6025570792382762\n",
      "  (1256, 44)\t0.4377886600638293\n",
      "  (1256, 30)\t0.4033255241413235\n",
      "  (1257, 197)\t0.33928111448746234\n",
      "  (1257, 171)\t0.43590716973061344\n",
      "  (1257, 157)\t0.4280031434801035\n",
      "  (1257, 81)\t0.38513487734017654\n",
      "  (1257, 68)\t0.37487849083198965\n",
      "  (1257, 59)\t0.37018220006975383\n",
      "  (1257, 30)\t0.2928975179477545\n",
      "  (1258, 90)\t0.6632901446572832\n",
      "  (1258, 37)\t0.6169021661398453\n",
      "  (1258, 30)\t0.42364832280145664\n"
     ]
    }
   ],
   "source": [
    "print(x)"
   ]
  },
  {
   "cell_type": "code",
   "execution_count": 17,
   "metadata": {
    "id": "uFtfof50SzBP"
   },
   "outputs": [],
   "source": [
    "import sklearn.externals\n",
    "import joblib"
   ]
  },
  {
   "cell_type": "code",
   "execution_count": 18,
   "metadata": {
    "id": "uIG2G2RkSzBP",
    "outputId": "17617a5a-4c33-4c08-8060-79a43796b7bb"
   },
   "outputs": [],
   "source": [
    "a= joblib.load('mod.pkl')  \n",
    "# Use the loaded model to make predictions\n",
    "y=a.predict(x) "
   ]
  },
  {
   "cell_type": "code",
   "execution_count": 19,
   "metadata": {
    "id": "30UMHWpVSzBQ"
   },
   "outputs": [
    {
     "name": "stdout",
     "output_type": "stream",
     "text": [
      "[0 0 0 ... 0 0 0]\n"
     ]
    }
   ],
   "source": [
    "print(y)"
   ]
  },
  {
   "cell_type": "code",
   "execution_count": 20,
   "metadata": {},
   "outputs": [
    {
     "data": {
      "text/plain": [
       "1259"
      ]
     },
     "execution_count": 20,
     "metadata": {},
     "output_type": "execute_result"
    }
   ],
   "source": [
    "len(y)"
   ]
  },
  {
   "cell_type": "code",
   "execution_count": 21,
   "metadata": {},
   "outputs": [],
   "source": [
    "p=[]"
   ]
  },
  {
   "cell_type": "code",
   "execution_count": 22,
   "metadata": {},
   "outputs": [],
   "source": [
    "for i in range(0,len(y)):\n",
    "  b=y[i]\n",
    "  p.append(b)"
   ]
  },
  {
   "cell_type": "code",
   "execution_count": 23,
   "metadata": {},
   "outputs": [
    {
     "name": "stdout",
     "output_type": "stream",
     "text": [
      "[0, 0, 0, 0, 0, 0, 0, 0, 0, 0, 0, 0, 0, 0, 0, 0, 0, 0, 0, 0, 0, 0, 0, 0, 1, 0, 0, 0, 0, 0, 0, 0, 0, 0, 0, 0, 0, 0, 0, 0, 0, 0, 0, 0, 0, 0, 0, 0, 0, 0, 0, 0, 0, 0, 0, 0, 0, 0, 0, 0, 0, 0, 0, 0, 0, 0, 0, 0, 0, 0, 0, 0, 0, 0, 0, 0, 1, 0, 0, 0, 0, 0, 0, 0, 0, 0, 0, 0, 0, 0, 0, 0, 0, 0, 0, 0, 0, 0, 0, 0, 0, 0, 0, 0, 0, 0, 0, 0, 0, 0, 0, 0, 0, 0, 0, 0, 0, 0, 0, 0, 0, 0, 0, 0, 0, 0, 0, 0, 0, 0, 0, 0, 0, 0, 0, 0, 0, 0, 0, 0, 0, 0, 0, 0, 0, 0, 0, 0, 0, 0, 0, 0, 0, 0, 0, 0, 0, 0, 0, 0, 0, 0, 0, 0, 0, 0, 0, 0, 0, 0, 0, 0, 0, 0, 0, 0, 0, 0, 0, 0, 0, 0, 0, 0, 0, 0, 0, 0, 0, 0, 0, 0, 0, 0, 0, 0, 0, 0, 0, 0, 0, 0, 0, 0, 0, 0, 0, 0, 0, 0, 0, 0, 0, 0, 0, 1, 0, 0, 0, 0, 0, 0, 0, 0, 0, 0, 0, 0, 0, 0, 0, 0, 0, 0, 0, 0, 0, 0, 0, 0, 0, 0, 0, 0, 0, 0, 0, 0, 0, 0, 0, 0, 0, 0, 0, 0, 0, 0, 0, 0, 0, 0, 0, 0, 0, 0, 0, 0, 0, 0, 0, 0, 0, 0, 0, 0, 0, 0, 0, 0, 0, 0, 0, 0, 0, 0, 0, 0, 0, 0, 0, 0, 0, 0, 0, 0, 0, 0, 0, 0, 0, 0, 0, 0, 0, 0, 0, 0, 0, 0, 0, 0, 0, 0, 0, 0, 0, 0, 0, 0, 0, 0, 0, 0, 0, 0, 0, 0, 0, 0, 0, 0, 0, 0, 0, 0, 0, 0, 0, 0, 0, 0, 0, 0, 0, 0, 0, 0, 0, 0, 0, 0, 0, 0, 0, 0, 0, 0, 0, 0, 0, 0, 0, 0, 0, 0, 0, 0, 0, 0, 0, 0, 0, 0, 0, 0, 0, 0, 0, 0, 0, 0, 0, 0, 0, 0, 0, 0, 0, 0, 0, 0, 0, 0, 0, 0, 0, 0, 0, 0, 0, 0, 0, 0, 0, 0, 0, 0, 0, 0, 0, 0, 0, 0, 0, 0, 0, 0, 0, 0, 0, 0, 0, 0, 0, 0, 0, 0, 0, 0, 0, 0, 0, 0, 0, 0, 0, 0, 0, 0, 0, 0, 0, 0, 0, 0, 0, 0, 0, 0, 0, 0, 0, 0, 0, 0, 0, 0, 0, 0, 0, 0, 0, 0, 0, 0, 0, 0, 0, 1, 0, 0, 0, 0, 0, 0, 0, 0, 0, 0, 0, 0, 0, 0, 0, 0, 0, 0, 0, 0, 0, 0, 0, 0, 0, 0, 0, 0, 0, 0, 0, 0, 0, 0, 0, 0, 0, 0, 0, 0, 0, 0, 0, 0, 0, 0, 0, 0, 0, 0, 0, 0, 0, 0, 0, 0, 0, 0, 0, 0, 0, 0, 0, 0, 0, 0, 0, 0, 0, 0, 0, 0, 0, 0, 0, 0, 0, 0, 0, 0, 0, 0, 0, 0, 0, 0, 0, 0, 0, 0, 0, 0, 0, 0, 0, 0, 0, 0, 0, 0, 0, 0, 0, 0, 0, 0, 0, 0, 0, 0, 0, 0, 0, 0, 0, 0, 0, 0, 0, 0, 0, 0, 0, 0, 1, 0, 0, 0, 0, 0, 0, 0, 0, 0, 0, 0, 0, 0, 0, 0, 0, 0, 0, 0, 0, 0, 0, 0, 0, 0, 0, 0, 0, 0, 0, 0, 0, 0, 0, 0, 0, 0, 0, 0, 0, 0, 0, 0, 0, 0, 0, 0, 0, 0, 0, 0, 0, 0, 0, 0, 0, 0, 0, 0, 0, 0, 0, 0, 0, 0, 0, 0, 0, 0, 0, 0, 0, 0, 0, 0, 0, 0, 0, 0, 0, 0, 0, 0, 0, 0, 0, 0, 0, 0, 0, 0, 0, 0, 0, 0, 0, 0, 0, 0, 0, 0, 0, 0, 0, 0, 0, 0, 0, 0, 0, 1, 0, 0, 0, 0, 0, 0, 0, 0, 1, 0, 0, 0, 1, 0, 0, 0, 0, 0, 0, 0, 0, 0, 0, 0, 0, 0, 0, 0, 0, 0, 0, 0, 0, 0, 0, 0, 0, 0, 0, 0, 0, 0, 0, 0, 0, 0, 0, 0, 0, 0, 0, 0, 0, 0, 0, 0, 0, 0, 0, 0, 0, 0, 0, 0, 0, 0, 0, 0, 0, 0, 0, 0, 0, 0, 0, 0, 0, 0, 0, 0, 0, 0, 0, 0, 0, 0, 0, 0, 0, 0, 0, 0, 0, 0, 0, 0, 0, 0, 0, 1, 0, 0, 0, 0, 0, 0, 0, 0, 0, 0, 0, 0, 0, 0, 0, 0, 0, 0, 0, 0, 0, 0, 0, 0, 0, 0, 0, 0, 0, 0, 0, 0, 0, 0, 0, 0, 0, 0, 0, 0, 0, 0, 0, 0, 0, 0, 0, 0, 0, 0, 0, 0, 0, 0, 0, 0, 0, 0, 0, 0, 0, 0, 0, 0, 0, 0, 0, 0, 0, 0, 0, 0, 0, 0, 0, 0, 0, 0, 0, 0, 0, 0, 0, 0, 0, 0, 0, 0, 0, 0, 0, 0, 0, 0, 0, 0, 0, 0, 0, 0, 0, 0, 1, 0, 0, 0, 0, 0, 0, 0, 0, 0, 0, 0, 0, 0, 0, 0, 0, 0, 0, 0, 0, 0, 0, 0, 0, 0, 0, 0, 1, 0, 0, 0, 0, 0, 0, 0, 0, 0, 0, 0, 0, 0, 0, 0, 0, 0, 0, 0, 0, 0, 0, 0, 0, 0, 0, 0, 0, 0, 0, 0, 0, 0, 0, 0, 0, 0, 0, 0, 0, 0, 0, 0, 0, 0, 0, 0, 0, 0, 0, 0, 0, 0, 0, 0, 0, 0, 0, 0, 0, 0, 0, 0, 0, 0, 0, 0, 0, 0, 0, 0, 0, 0, 0, 0, 0, 0, 0, 0, 0, 0, 0, 0, 0, 0, 0, 0, 1, 0, 1, 0, 0, 0, 0, 0, 0, 0, 0, 0, 0, 0, 0, 0, 0, 0, 0, 0, 0, 0, 0, 0, 0, 0, 0, 0, 0, 0, 0, 0, 0, 0, 0, 0, 0, 0, 0, 0, 0, 0, 0, 0, 0, 0, 0, 0, 0, 0, 0, 0, 0, 0, 0, 0, 0, 0, 0, 0, 0, 0, 0, 0, 0, 0, 0, 0, 0, 0, 0, 0, 0, 0, 0, 0, 1, 0, 0, 0, 0, 0, 0, 0, 0, 0, 0, 0, 0, 0, 0, 0, 0, 0, 0, 0, 0, 0, 0, 0, 0, 0, 0, 0, 0, 0, 0, 0, 0, 0, 0, 0, 0, 0, 0, 0, 0, 0, 0, 0, 0, 0, 0, 0, 0, 0, 0, 0, 0, 0, 0, 0, 0, 0, 0, 0, 0, 0, 0, 0, 0, 0, 0, 0, 0, 0, 0, 0, 0, 0, 0, 0, 0, 0, 0, 0, 0, 0, 0, 0, 0, 0, 0, 0, 0, 0, 0, 0, 0, 0, 0, 0, 0, 0, 0, 0, 0, 0, 0, 0, 0, 0, 0, 0, 0, 0, 0, 0, 0, 0, 0, 0, 0, 0, 0, 0, 0, 0, 1, 0, 0, 0, 0, 0, 1, 0, 0, 0, 0, 0, 0, 0, 0, 0, 0, 0, 0, 0, 0, 0, 0, 0, 0, 0, 0, 0, 0, 0, 0, 0, 0, 0, 0, 0, 0]\n"
     ]
    }
   ],
   "source": [
    "print(p)\n",
    "# 0 -> negative tweet\n",
    "# 1 -> positive tweet"
   ]
  },
  {
   "cell_type": "code",
   "execution_count": null,
   "metadata": {},
   "outputs": [],
   "source": []
  }
 ],
 "metadata": {
  "colab": {
   "name": "Testing code.ipynb",
   "provenance": []
  },
  "kernelspec": {
   "display_name": "Python 3",
   "language": "python",
   "name": "python3"
  },
  "language_info": {
   "codemirror_mode": {
    "name": "ipython",
    "version": 3
   },
   "file_extension": ".py",
   "mimetype": "text/x-python",
   "name": "python",
   "nbconvert_exporter": "python",
   "pygments_lexer": "ipython3",
   "version": "3.7.6"
  }
 },
 "nbformat": 4,
 "nbformat_minor": 1
}
